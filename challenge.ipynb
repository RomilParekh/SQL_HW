{
 "cells": [
  {
   "cell_type": "markdown",
   "metadata": {},
   "source": [
    "# Challenge\n",
    "\n",
    "Another approach to identifying fraudulent transactions is to look for outliers in the data. Standard deviation or quartiles are often used to detect outliers. Using this starter notebook, code two Python functions:\n",
    "\n",
    "* One that uses standard deviation to identify anomalies for any cardholder.\n",
    "\n",
    "* Another that uses interquartile range to identify anomalies for any cardholder.\n",
    "\n",
    "## Identifying Outliers using Standard Deviation"
   ]
  },
  {
   "cell_type": "code",
   "execution_count": 57,
   "metadata": {},
   "outputs": [],
   "source": [
    "# Initial imports\n",
    "import psycopg2\n",
    "import pandas as pd\n",
    "import numpy as np\n",
    "from numpy import mean \n",
    "from numpy import std\n",
    "from numpy import percentile\n",
    "import random\n",
    "from sqlalchemy import create_engine\n",
    "import math"
   ]
  },
  {
   "cell_type": "code",
   "execution_count": 5,
   "metadata": {},
   "outputs": [],
   "source": [
    "# Create a connection to the database\n",
    "engine = create_engine(\"postgresql://postgres:NWFinTech@21@localhost:5432/SQL_HW\")"
   ]
  },
  {
   "cell_type": "code",
   "execution_count": 6,
   "metadata": {},
   "outputs": [
    {
     "data": {
      "text/html": [
       "<div>\n",
       "<style scoped>\n",
       "    .dataframe tbody tr th:only-of-type {\n",
       "        vertical-align: middle;\n",
       "    }\n",
       "\n",
       "    .dataframe tbody tr th {\n",
       "        vertical-align: top;\n",
       "    }\n",
       "\n",
       "    .dataframe thead th {\n",
       "        text-align: right;\n",
       "    }\n",
       "</style>\n",
       "<table border=\"1\" class=\"dataframe\">\n",
       "  <thead>\n",
       "    <tr style=\"text-align: right;\">\n",
       "      <th></th>\n",
       "      <th>merchant_category_id</th>\n",
       "      <th>name</th>\n",
       "    </tr>\n",
       "  </thead>\n",
       "  <tbody>\n",
       "    <tr>\n",
       "      <th>0</th>\n",
       "      <td>1</td>\n",
       "      <td>restaurant</td>\n",
       "    </tr>\n",
       "    <tr>\n",
       "      <th>1</th>\n",
       "      <td>2</td>\n",
       "      <td>coffee shop</td>\n",
       "    </tr>\n",
       "    <tr>\n",
       "      <th>2</th>\n",
       "      <td>3</td>\n",
       "      <td>bar</td>\n",
       "    </tr>\n",
       "    <tr>\n",
       "      <th>3</th>\n",
       "      <td>4</td>\n",
       "      <td>pub</td>\n",
       "    </tr>\n",
       "    <tr>\n",
       "      <th>4</th>\n",
       "      <td>5</td>\n",
       "      <td>food truck</td>\n",
       "    </tr>\n",
       "  </tbody>\n",
       "</table>\n",
       "</div>"
      ],
      "text/plain": [
       "   merchant_category_id         name\n",
       "0                     1   restaurant\n",
       "1                     2  coffee shop\n",
       "2                     3          bar\n",
       "3                     4          pub\n",
       "4                     5   food truck"
      ]
     },
     "execution_count": 6,
     "metadata": {},
     "output_type": "execute_result"
    }
   ],
   "source": [
    "#Test Query\n",
    "query = \"select * from merchant_category\"\n",
    "merchantCategoryDF = pd.read_sql(query, engine)\n",
    "merchantCategoryDF"
   ]
  },
  {
   "cell_type": "code",
   "execution_count": 24,
   "metadata": {},
   "outputs": [],
   "source": [
    "# Write function that locates outliers using standard deviation\n",
    "def remove_outliers(values):\n",
    "    elements = np.array(values)\n",
    "    mean = np.mean(elements, axis=0)\n",
    "    sd = np.std(elements, axis=0)\n",
    "    final_list = [x for x in values if (x > mean - 2 * sd)]\n",
    "    final_list = [x for x in final_list if (x < mean + 2 * sd)]\n",
    "    return final_list"
   ]
  },
  {
   "cell_type": "code",
   "execution_count": 46,
   "metadata": {},
   "outputs": [
    {
     "data": {
      "text/html": [
       "<div>\n",
       "<style scoped>\n",
       "    .dataframe tbody tr th:only-of-type {\n",
       "        vertical-align: middle;\n",
       "    }\n",
       "\n",
       "    .dataframe tbody tr th {\n",
       "        vertical-align: top;\n",
       "    }\n",
       "\n",
       "    .dataframe thead th {\n",
       "        text-align: right;\n",
       "    }\n",
       "</style>\n",
       "<table border=\"1\" class=\"dataframe\">\n",
       "  <thead>\n",
       "    <tr style=\"text-align: right;\">\n",
       "      <th></th>\n",
       "      <th>amount</th>\n",
       "    </tr>\n",
       "  </thead>\n",
       "  <tbody>\n",
       "    <tr>\n",
       "      <th>0</th>\n",
       "      <td>6.22</td>\n",
       "    </tr>\n",
       "    <tr>\n",
       "      <th>1</th>\n",
       "      <td>3.83</td>\n",
       "    </tr>\n",
       "    <tr>\n",
       "      <th>2</th>\n",
       "      <td>9.61</td>\n",
       "    </tr>\n",
       "    <tr>\n",
       "      <th>3</th>\n",
       "      <td>19.03</td>\n",
       "    </tr>\n",
       "    <tr>\n",
       "      <th>4</th>\n",
       "      <td>2.95</td>\n",
       "    </tr>\n",
       "  </tbody>\n",
       "</table>\n",
       "</div>"
      ],
      "text/plain": [
       "   amount\n",
       "0    6.22\n",
       "1    3.83\n",
       "2    9.61\n",
       "3   19.03\n",
       "4    2.95"
      ]
     },
     "execution_count": 46,
     "metadata": {},
     "output_type": "execute_result"
    }
   ],
   "source": [
    "query = \"select amount from transaction_activity\"\n",
    "DataDF = pd.read_sql(query, engine)\n",
    "DataDF.head(5)\n",
    "#remove_outliers(DataDF['amount'])"
   ]
  },
  {
   "cell_type": "code",
   "execution_count": 42,
   "metadata": {},
   "outputs": [
    {
     "data": {
      "text/plain": [
       "99"
      ]
     },
     "execution_count": 42,
     "metadata": {},
     "output_type": "execute_result"
    }
   ],
   "source": [
    "# Find anomalous transactions for 3 random card holders\n",
    "\n",
    "# Write the query cardholder 2\n",
    "query = \"Select card_holder.cardholder_id, card_holder.name, transaction_activity.amount, merchant_category.name as MerchantCategory, transaction_activity.date,  credit_card.card, merchant.name as MerchantName from transaction_activity   left JOIN merchant  on transaction_activity.merchant_id = merchant.merchant_id left JOIN merchant_category on merchant.merchant_category_id = merchant_category.merchant_category_id left join credit_card on transaction_activity.card =  credit_card.card left join card_holder on credit_card.cardholder_id = card_holder.cardholder_id  where card_holder.cardholder_id in (2) order by card_holder, date, amount asc\" \n",
    "# Create a DataFrame from the query result. HINT: Use pd.read_sql(query, engine)\n",
    "CardHolder2DF = pd.read_sql(query, engine)\n",
    "#len(CardHolder2DF['amount'])\n",
    "len(remove_outliers(CardHolder2DF['amount']))"
   ]
  },
  {
   "cell_type": "code",
   "execution_count": 43,
   "metadata": {},
   "outputs": [
    {
     "data": {
      "text/plain": [
       "126"
      ]
     },
     "execution_count": 43,
     "metadata": {},
     "output_type": "execute_result"
    }
   ],
   "source": [
    "# Write the query cardholder 2\n",
    "query = \"Select card_holder.cardholder_id, card_holder.name, transaction_activity.amount, merchant_category.name as MerchantCategory, transaction_activity.date,  credit_card.card, merchant.name as MerchantName from transaction_activity   left JOIN merchant  on transaction_activity.merchant_id = merchant.merchant_id left JOIN merchant_category on merchant.merchant_category_id = merchant_category.merchant_category_id left join credit_card on transaction_activity.card =  credit_card.card left join card_holder on credit_card.cardholder_id = card_holder.cardholder_id  where card_holder.cardholder_id in (18) order by card_holder, date, amount asc\" \n",
    "# Create a DataFrame from the query result. HINT: Use pd.read_sql(query, engine)\n",
    "CardHolder18DF = pd.read_sql(query, engine)\n",
    "#len(CardHolder2DF['amount'])\n",
    "len(remove_outliers(CardHolder18DF['amount']))"
   ]
  },
  {
   "cell_type": "code",
   "execution_count": 44,
   "metadata": {},
   "outputs": [
    {
     "data": {
      "text/plain": [
       "115"
      ]
     },
     "execution_count": 44,
     "metadata": {},
     "output_type": "execute_result"
    }
   ],
   "source": [
    "# Write the query cardholder 2\n",
    "query = \"Select card_holder.cardholder_id, card_holder.name, transaction_activity.amount, merchant_category.name as MerchantCategory, transaction_activity.date,  credit_card.card, merchant.name as MerchantName from transaction_activity   left JOIN merchant  on transaction_activity.merchant_id = merchant.merchant_id left JOIN merchant_category on merchant.merchant_category_id = merchant_category.merchant_category_id left join credit_card on transaction_activity.card =  credit_card.card left join card_holder on credit_card.cardholder_id = card_holder.cardholder_id  where card_holder.cardholder_id in (25) order by card_holder, date, amount asc\" \n",
    "# Create a DataFrame from the query result. HINT: Use pd.read_sql(query, engine)\n",
    "CardHolder25DF = pd.read_sql(query, engine)\n",
    "#len(CardHolder2DF['amount'])\n",
    "len(remove_outliers(CardHolder25DF['amount']))"
   ]
  },
  {
   "cell_type": "markdown",
   "metadata": {},
   "source": [
    "## Identifying Outliers Using Interquartile Range"
   ]
  },
  {
   "cell_type": "code",
   "execution_count": 66,
   "metadata": {},
   "outputs": [],
   "source": [
    "# Write a function that locates outliers using interquartile range\n",
    "def Outliers_interquartile_range(values):\n",
    "    data_mean = (np.mean(values))\n",
    "    data_std = (np.std(values))\n",
    "    q25, q75 = percentile(values, 25), percentile(values, 75)\n",
    "    iqr = q75 - q25\n",
    "    cut_off = iqr * 1.5\n",
    "    lower, upper = q25 - cut_off, q75 + cut_off\n",
    "    outliers = [x for x in values if x < lower or x > upper]\n",
    "    return outliers"
   ]
  },
  {
   "cell_type": "code",
   "execution_count": 67,
   "metadata": {},
   "outputs": [
    {
     "data": {
      "text/plain": [
       "[]"
      ]
     },
     "execution_count": 67,
     "metadata": {},
     "output_type": "execute_result"
    }
   ],
   "source": [
    "# Find anomalous transactions for 3 random card holders\n",
    "# Write the query cardholder 2\n",
    "query = \"Select card_holder.cardholder_id, card_holder.name, transaction_activity.amount, merchant_category.name as MerchantCategory, transaction_activity.date,  credit_card.card, merchant.name as MerchantName from transaction_activity   left JOIN merchant  on transaction_activity.merchant_id = merchant.merchant_id left JOIN merchant_category on merchant.merchant_category_id = merchant_category.merchant_category_id left join credit_card on transaction_activity.card =  credit_card.card left join card_holder on credit_card.cardholder_id = card_holder.cardholder_id  where card_holder.cardholder_id in (2) order by card_holder, date, amount asc\" \n",
    "# Create a DataFrame from the query result. HINT: Use pd.read_sql(query, engine)\n",
    "CardHolder2DF = pd.read_sql(query, engine)\n",
    "#len(CardHolder2DF['amount'])\n",
    "Outliers_interquartile_range(CardHolder2DF['amount'])"
   ]
  },
  {
   "cell_type": "code",
   "execution_count": 68,
   "metadata": {},
   "outputs": [
    {
     "data": {
      "text/plain": [
       "[175.0,\n",
       " 333.0,\n",
       " 1839.0,\n",
       " 1077.0,\n",
       " 1814.0,\n",
       " 121.0,\n",
       " 117.0,\n",
       " 974.0,\n",
       " 458.0,\n",
       " 1176.0,\n",
       " 1769.0000000000002,\n",
       " 1154.0]"
      ]
     },
     "execution_count": 68,
     "metadata": {},
     "output_type": "execute_result"
    }
   ],
   "source": [
    "query = \"Select card_holder.cardholder_id, card_holder.name, transaction_activity.amount, merchant_category.name as MerchantCategory, transaction_activity.date,  credit_card.card, merchant.name as MerchantName from transaction_activity   left JOIN merchant  on transaction_activity.merchant_id = merchant.merchant_id left JOIN merchant_category on merchant.merchant_category_id = merchant_category.merchant_category_id left join credit_card on transaction_activity.card =  credit_card.card left join card_holder on credit_card.cardholder_id = card_holder.cardholder_id  where card_holder.cardholder_id in (18) order by card_holder, date, amount asc\" \n",
    "# Create a DataFrame from the query result. HINT: Use pd.read_sql(query, engine)\n",
    "CardHolder18DF = pd.read_sql(query, engine)\n",
    "#len(CardHolder2DF['amount'])\n",
    "Outliers_interquartile_range(CardHolder18DF['amount'])"
   ]
  },
  {
   "cell_type": "code",
   "execution_count": 69,
   "metadata": {},
   "outputs": [
    {
     "data": {
      "text/plain": [
       "[1177.0,\n",
       " 1334.0,\n",
       " 100.0,\n",
       " 1063.0,\n",
       " 269.0,\n",
       " 1046.0,\n",
       " 1162.0,\n",
       " 749.0,\n",
       " 1813.0,\n",
       " 1001.0,\n",
       " 137.0,\n",
       " 1074.0]"
      ]
     },
     "execution_count": 69,
     "metadata": {},
     "output_type": "execute_result"
    }
   ],
   "source": [
    "query = \"Select card_holder.cardholder_id, card_holder.name, transaction_activity.amount, merchant_category.name as MerchantCategory, transaction_activity.date,  credit_card.card, merchant.name as MerchantName from transaction_activity   left JOIN merchant  on transaction_activity.merchant_id = merchant.merchant_id left JOIN merchant_category on merchant.merchant_category_id = merchant_category.merchant_category_id left join credit_card on transaction_activity.card =  credit_card.card left join card_holder on credit_card.cardholder_id = card_holder.cardholder_id  where card_holder.cardholder_id in (25) order by card_holder, date, amount asc\" \n",
    "# Create a DataFrame from the query result. HINT: Use pd.read_sql(query, engine)\n",
    "CardHolder25DF = pd.read_sql(query, engine)\n",
    "#len(CardHolder2DF['amount'])\n",
    "Outliers_interquartile_range(CardHolder25DF['amount'])"
   ]
  },
  {
   "cell_type": "code",
   "execution_count": null,
   "metadata": {},
   "outputs": [],
   "source": []
  }
 ],
 "metadata": {
  "file_extension": ".py",
  "kernelspec": {
   "display_name": "Python [conda env:root]",
   "language": "python",
   "name": "conda-root-py"
  },
  "language_info": {
   "codemirror_mode": {
    "name": "ipython",
    "version": 3
   },
   "file_extension": ".py",
   "mimetype": "text/x-python",
   "name": "python",
   "nbconvert_exporter": "python",
   "pygments_lexer": "ipython3",
   "version": "3.8.8"
  },
  "mimetype": "text/x-python",
  "name": "python",
  "npconvert_exporter": "python",
  "pygments_lexer": "ipython3",
  "version": 3
 },
 "nbformat": 4,
 "nbformat_minor": 4
}
